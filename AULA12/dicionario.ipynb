{
 "cells": [
  {
   "cell_type": "markdown",
   "metadata": {},
   "source": [
    "# Dicionário\n",
    "\n",
    "é um conjuntos de chaves e e valores que distinguem um objeto. Estas chaves nos chamamos de KEYS e seus valores de VLUES. É um tipo especial de variável python identificada pelas {}."
   ]
  },
  {
   "cell_type": "code",
   "execution_count": 66,
   "metadata": {},
   "outputs": [
    {
     "name": "stdout",
     "output_type": "stream",
     "text": [
      "{'nome': 'Paulo', 'idade': 30, 'cidade': 'São Paulo'}\n"
     ]
    }
   ],
   "source": [
    "# Dicionário é o que está entre chaves. Quando printarmos a variável, irá retornar o dicionário.\n",
    "\n",
    "pessoa = {\n",
    "    'nome' : 'Paulo',\n",
    "    'idade': 30,\n",
    "    'cidade': 'São Paulo'\n",
    "\n",
    "\n",
    "\n",
    "\n",
    "}\n",
    "\n",
    "print(pessoa)\n"
   ]
  },
  {
   "cell_type": "code",
   "execution_count": 67,
   "metadata": {},
   "outputs": [
    {
     "name": "stdout",
     "output_type": "stream",
     "text": [
      "dict_keys(['nome', 'idade', 'cidade'])\n",
      "dict_values(['Paulo', 30, 'São Paulo'])\n"
     ]
    }
   ],
   "source": [
    "#Metodo keys\n",
    "#metodo values\n",
    "\n",
    "print(pessoa.keys())\n",
    "print(pessoa.values())"
   ]
  },
  {
   "cell_type": "code",
   "execution_count": 68,
   "metadata": {},
   "outputs": [
    {
     "data": {
      "text/plain": [
       "'Paulo'"
      ]
     },
     "execution_count": 68,
     "metadata": {},
     "output_type": "execute_result"
    }
   ],
   "source": [
    "# Olhando os valores especificos de um dicionário\n",
    "\n",
    "pessoa['nome']\n"
   ]
  },
  {
   "cell_type": "code",
   "execution_count": 69,
   "metadata": {},
   "outputs": [
    {
     "name": "stdout",
     "output_type": "stream",
     "text": [
      "{'nome': 'Paulo', 'idade': 30, 'cidade': 'São Paulo'}\n",
      "{'nome': 'Paulo', 'idade': 30, 'cidade': 'Brasília'}\n"
     ]
    }
   ],
   "source": [
    "# Atribuindo um novo valor a uma chave\n",
    "\n",
    "print(pessoa)\n",
    "pessoa['cidade'] = 'Brasília'\n",
    "print(pessoa)"
   ]
  },
  {
   "cell_type": "code",
   "execution_count": 70,
   "metadata": {},
   "outputs": [
    {
     "name": "stdout",
     "output_type": "stream",
     "text": [
      "{'nome': 'Paulo', 'idade': 30, 'cidade': 'Brasília', 'email': 'paulo@teste.com'}\n"
     ]
    }
   ],
   "source": [
    "# Para criar uma nova chave colocar entre colchetes []\n",
    "\n",
    "pessoa['email'] = 'paulo@teste.com'\n",
    "print(pessoa)"
   ]
  },
  {
   "cell_type": "code",
   "execution_count": 71,
   "metadata": {},
   "outputs": [
    {
     "name": "stdout",
     "output_type": "stream",
     "text": [
      "{'nome': 'Paulo', 'email': 'paulo@teste.com'}\n"
     ]
    }
   ],
   "source": [
    "# Exluir a chave de um dicionário\n",
    "\n",
    "del pessoa['idade']\n",
    "pessoa.pop('cidade')\n",
    "\n",
    "print(pessoa)\n"
   ]
  },
  {
   "cell_type": "code",
   "execution_count": 72,
   "metadata": {},
   "outputs": [],
   "source": [
    "# alunos = [\n",
    "    \n",
    "#     {'nome': 'Daniel' 'cidade': 'Aguas Claras' },\n",
    "#     {'nome': 'Marcos' 'cidade': 'recanto'},\n",
    "#     {'nome': 'Luana' 'cidade': 'brasilia'},\n",
    "#     {'nome ': 'Francineide': 'cidade': 'Ceilandia'},\n",
    "\n",
    "\n",
    "\n",
    "  \n",
    "# ]\n",
    "\n",
    "# for indice, aluno in enumerate(alunos):\n",
    "#     print(indice, aluno)\n",
    "\n"
   ]
  },
  {
   "cell_type": "code",
   "execution_count": 73,
   "metadata": {},
   "outputs": [
    {
     "name": "stdout",
     "output_type": "stream",
     "text": [
      "{'Daniel': {'matricula': '1234', 'escolaridade': 'superior'}, 'Luana': {'matricula': '5678', 'escolaridade': 'superior'}, 'Gilamar': {'matricula': '4321', 'escolaridade': 'superior'}, 'Felipe': {'matricula': '9874', 'escolaridade': 'medio'}}\n"
     ]
    }
   ],
   "source": [
    "alunos_dicionario = {\n",
    "    'Daniel' : { 'matricula': '1234', 'escolaridade': 'superior' },\n",
    "    'Luana' : {'matricula': '5678', 'escolaridade': 'superior'},\n",
    "    'Gilamar' : {'matricula': '4321', 'escolaridade': 'superior'},\n",
    "    'Felipe' : {'matricula': '9874', 'escolaridade': 'medio'},  \n",
    "\n",
    "\n",
    "\n",
    "\n",
    "\n",
    "\n",
    "\n",
    "}\n",
    "\n",
    "\n",
    "print(alunos_dicionario)\n"
   ]
  },
  {
   "cell_type": "code",
   "execution_count": 75,
   "metadata": {},
   "outputs": [
    {
     "name": "stdout",
     "output_type": "stream",
     "text": [
      "medio\n"
     ]
    }
   ],
   "source": [
    "print(alunos_dicionario['Felipe']['escolaridade'])"
   ]
  }
 ],
 "metadata": {
  "interpreter": {
   "hash": "023695796a0456db28915f727eb64cb942055160ea749933aa044f2070f70f3a"
  },
  "kernelspec": {
   "display_name": "Python 3.12.5 64-bit (windows store)",
   "language": "python",
   "name": "python3"
  },
  "language_info": {
   "codemirror_mode": {
    "name": "ipython",
    "version": 3
   },
   "file_extension": ".py",
   "mimetype": "text/x-python",
   "name": "python",
   "nbconvert_exporter": "python",
   "pygments_lexer": "ipython3",
   "version": "3.12.5"
  },
  "orig_nbformat": 4
 },
 "nbformat": 4,
 "nbformat_minor": 2
}
